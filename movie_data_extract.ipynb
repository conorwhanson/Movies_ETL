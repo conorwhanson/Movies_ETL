{
 "cells": [
  {
   "cell_type": "markdown",
   "id": "dc99e300",
   "metadata": {},
   "source": [
    "# Import Wikipedia json and Kaggle csv data"
   ]
  },
  {
   "cell_type": "code",
   "execution_count": null,
   "id": "1bef9d15",
   "metadata": {},
   "outputs": [],
   "source": [
    "import json\n",
    "import pandas as pd\n",
    "import numpy as np\n",
    "import re"
   ]
  },
  {
   "cell_type": "code",
   "execution_count": null,
   "id": "6c2862ab",
   "metadata": {},
   "outputs": [],
   "source": [
    "# import json file\n",
    "with open (\"wikipedia-movies.json\", mode=\"r\") as file:\n",
    "    wiki_movies_raw = json.load(file)"
   ]
  },
  {
   "cell_type": "code",
   "execution_count": null,
   "id": "84928aef",
   "metadata": {},
   "outputs": [],
   "source": [
    "len(wiki_movies_raw)"
   ]
  },
  {
   "cell_type": "code",
   "execution_count": null,
   "id": "5ceceba3",
   "metadata": {},
   "outputs": [],
   "source": [
    "# see first 5 of raw json data\n",
    "wiki_movies_raw[:5]"
   ]
  },
  {
   "cell_type": "code",
   "execution_count": null,
   "id": "b63e32f8",
   "metadata": {},
   "outputs": [],
   "source": [
    "# see last 5 of raw json data\n",
    "wiki_movies_raw[-5:]"
   ]
  },
  {
   "cell_type": "code",
   "execution_count": null,
   "id": "f8aa9833",
   "metadata": {},
   "outputs": [],
   "source": [
    "wiki_movies_raw[0].keys()"
   ]
  },
  {
   "cell_type": "code",
   "execution_count": null,
   "id": "1ef4ec5d",
   "metadata": {},
   "outputs": [],
   "source": [
    "kaggle_metadata = pd.read_csv(\"movies_metadata.csv\", low_memory = False)\n",
    "ratings = pd.read_csv(\"../ratings.csv\")"
   ]
  },
  {
   "cell_type": "code",
   "execution_count": null,
   "id": "e54c78a0",
   "metadata": {},
   "outputs": [],
   "source": [
    "kaggle_metadata.head()"
   ]
  },
  {
   "cell_type": "code",
   "execution_count": null,
   "id": "96811da9",
   "metadata": {},
   "outputs": [],
   "source": [
    "kaggle_metadata.info()"
   ]
  },
  {
   "cell_type": "code",
   "execution_count": null,
   "id": "70c3b887",
   "metadata": {},
   "outputs": [],
   "source": [
    "ratings.head()"
   ]
  },
  {
   "cell_type": "code",
   "execution_count": null,
   "id": "8435c545",
   "metadata": {},
   "outputs": [],
   "source": [
    "ratings.info()"
   ]
  },
  {
   "cell_type": "code",
   "execution_count": null,
   "id": "8cc90f69",
   "metadata": {},
   "outputs": [],
   "source": [
    "wiki_movies = pd.DataFrame(wiki_movies_raw)\n",
    "wiki_movies.head(5)"
   ]
  },
  {
   "cell_type": "code",
   "execution_count": null,
   "id": "eca47a06",
   "metadata": {},
   "outputs": [],
   "source": [
    "wiki_movies.columns.to_list()"
   ]
  },
  {
   "cell_type": "code",
   "execution_count": null,
   "id": "3cdc0c53",
   "metadata": {},
   "outputs": [],
   "source": [
    "# use list comprehension to restrict data with specified paramters: \n",
    "# has \"Director\"/\"Directed by\", has \"imdb_link\", and does not have \"No. of episodes\"\n",
    "wiki_movies1 = [movie for movie in wiki_movies_raw\n",
    "               if (\"Director\" in movie or \"Directed by\" in movie)\n",
    "               and \"imdb_link\" in movie\n",
    "               and \"No. of episodes\" not in movie]\n",
    "len(wiki_movies1)"
   ]
  },
  {
   "cell_type": "code",
   "execution_count": null,
   "id": "22edaa98",
   "metadata": {},
   "outputs": [],
   "source": [
    "# create a function to clean up the data with movie as parameter\n",
    "def clean_movie(movie):\n",
    "    \n",
    "    # 1. make a copy of the dict to save it in memory to avoid destructable edits \n",
    "    # (using a local variable movie that can only be referenced inside the function)\n",
    "    movie = dict(movie)\n",
    "    alt_titles = {}\n",
    "    \n",
    "    # 2. use a for loop to loop through columns with these names and remove them with pop()\n",
    "    for key in ['Also known as','Arabic','Cantonese','Chinese',\n",
    "                'French','Hangul','Hebrew','Hepburn','Japanese',\n",
    "                'Literally','Mandarin','McCune–Reischauer','Original title',\n",
    "                'Polish','Revised Romanization','Romanized','Russian',\n",
    "                'Simplified','Traditional','Yiddish']:\n",
    "        \n",
    "        # 2a. if the key exists in the movie object remove it and append it to the created dict above\n",
    "        if key in movie:\n",
    "            alt_titles[key] = movie[key]\n",
    "            movie.pop(key)\n",
    "            \n",
    "        # 3. After loop add alt_titles dict to movies\n",
    "    if len(alt_titles) > 0:\n",
    "        movie['alt_titles'] = alt_titles\n",
    "        \n",
    "    # 4. Merge column names by \n",
    "    def change_column_name(old_name, new_name):\n",
    "        if old_name in movie:\n",
    "            movie[new_name] = movie.pop(old_name)\n",
    "    change_column_name(\"Adaptation by\", \"Writer(s)\")\n",
    "    change_column_name(\"Country of origin\", \"Country\")\n",
    "    change_column_name(\"Directed by\", \"Director\")\n",
    "    change_column_name(\"Distributed by\", \"Distributor\")\n",
    "    change_column_name('Edited by', 'Editor(s)')\n",
    "    change_column_name('Length', 'Running time')\n",
    "    change_column_name('Original release', 'Release date')\n",
    "    change_column_name('Music by', 'Composer(s)')\n",
    "    change_column_name('Produced by', 'Producer(s)')\n",
    "    change_column_name('Producer', 'Producer(s)')\n",
    "    change_column_name('Productioncompanies ', 'Production company(s)')\n",
    "    change_column_name('Productioncompany ', 'Production company(s)')\n",
    "    change_column_name('Released', 'Release Date')\n",
    "    change_column_name('Release Date', 'Release date')\n",
    "    change_column_name('Screen story by', 'Writer(s)')\n",
    "    change_column_name('Screenplay by', 'Writer(s)')\n",
    "    change_column_name('Story by', 'Writer(s)')\n",
    "    change_column_name('Theme music composer', 'Composer(s)')\n",
    "    change_column_name('Written by', 'Writer(s)')\n",
    "    \n",
    "   \n",
    "    return movie"
   ]
  },
  {
   "cell_type": "code",
   "execution_count": null,
   "id": "cf443226",
   "metadata": {},
   "outputs": [],
   "source": [
    "# use list comprehension to call the function on wiki_movies1 and iterate through it to output clean list\n",
    "clean_movies = [clean_movie(movie) for movie in wiki_movies1]\n",
    "wiki_movies_df = pd.DataFrame(clean_movies)\n",
    "sorted(wiki_movies_df.columns.tolist())"
   ]
  },
  {
   "cell_type": "code",
   "execution_count": null,
   "id": "c97abff1",
   "metadata": {},
   "outputs": [],
   "source": [
    "# using str.extract() pull the imdb ID from the link in the dataframe\n",
    "wiki_movies_df['imdb_id'] = wiki_movies_df['imdb_link'].str.extract(r'(tt\\d{7})')\n",
    "print(len(wiki_movies_df))\n",
    "\n",
    "# drop duplicates of imdb IDs\n",
    "wiki_movies_df.drop_duplicates(subset=\"imdb_id\", inplace=True)\n",
    "print(len(wiki_movies_df))\n",
    "wiki_movies_df.head()"
   ]
  },
  {
   "cell_type": "code",
   "execution_count": null,
   "id": "7b98cd02",
   "metadata": {},
   "outputs": [],
   "source": [
    "print(\"Number of null values in column 38 : \" + \n",
    "       str(wiki_movies_df.iloc[:, 38].isnull().sum()))"
   ]
  },
  {
   "cell_type": "code",
   "execution_count": null,
   "id": "e688d1d0",
   "metadata": {},
   "outputs": [],
   "source": [
    "# use list comprehension to return # of null values for each column\n",
    "[[column, wiki_movies_df[column].isnull().sum()] for column in wiki_movies_df.columns]"
   ]
  },
  {
   "cell_type": "code",
   "execution_count": null,
   "id": "d72fd0ad",
   "metadata": {},
   "outputs": [],
   "source": [
    "# make a list of columns having less than 90% null values to reduce dataset\n",
    "wiki_columns_to_keep = [column for column in wiki_movies_df.columns if wiki_movies_df[column].isnull().sum() < len(wiki_movies_df) * 0.9]\n",
    "wiki_movies_df = wiki_movies_df[wiki_columns_to_keep]"
   ]
  },
  {
   "cell_type": "code",
   "execution_count": null,
   "id": "5b6e9ca1",
   "metadata": {},
   "outputs": [],
   "source": [
    "wiki_movies_df.info()"
   ]
  },
  {
   "cell_type": "code",
   "execution_count": null,
   "id": "52dd2433",
   "metadata": {},
   "outputs": [],
   "source": [
    "# convert columns to proper dtypes using regular expressions (regex) which only work on strings. But first,\n",
    "# drop the missing values.\n",
    "box_office = wiki_movies_df[\"Box office\"].dropna()"
   ]
  },
  {
   "cell_type": "code",
   "execution_count": null,
   "id": "f940a75f",
   "metadata": {},
   "outputs": [],
   "source": [
    "# define function to find box office data that is a string to sort it from the data that is not.\n",
    "# def is_not_a_string(x):\n",
    "#     return type(x) != str\n",
    "# box_office[box_office.map(is_not_a_string)]\n",
    "\n",
    "# OR use a lambda function in place of function above for single line simplicity.\n",
    "box_office[box_office.map(lambda x: type(x) != str)]"
   ]
  },
  {
   "cell_type": "code",
   "execution_count": null,
   "id": "a6b5346a",
   "metadata": {},
   "outputs": [],
   "source": [
    "# Because some data is stored as a list, use .join to put the lists together into a string with a separator.\n",
    "box_office = box_office.apply(lambda x: ' '.join(x) if type(x) == list else x)\n",
    "box_office.head(40)"
   ]
  },
  {
   "cell_type": "code",
   "execution_count": null,
   "id": "0e11b28d",
   "metadata": {},
   "outputs": [],
   "source": [
    "# begin parsing the box office data\n",
    "money_form_one = r'\\$\\s*\\d+\\.?\\d*\\s*[mb]illi?on'\n",
    "matches_1 = box_office.str.contains(money_form_one, flags=re.IGNORECASE, na=False) # number of rows that match the form\n",
    "matches_1.sum()"
   ]
  },
  {
   "cell_type": "code",
   "execution_count": null,
   "id": "53006fac",
   "metadata": {},
   "outputs": [],
   "source": [
    "money_form_two = r'\\$\\s*\\d{1,3}(?:,\\d{3})+'\n",
    "matches_2 = box_office.str.contains(money_form_two, na=False)\n",
    "matches_2.sum()"
   ]
  },
  {
   "cell_type": "code",
   "execution_count": null,
   "id": "7153493f",
   "metadata": {},
   "outputs": [],
   "source": [
    "# find which rows match neither regex\n",
    "box_office[~matches_1 & ~matches_2]"
   ]
  },
  {
   "cell_type": "code",
   "execution_count": null,
   "id": "33469f76",
   "metadata": {},
   "outputs": [],
   "source": [
    "# find every value that uses a hyphen and replace\n",
    "box_office = box_office.str.replace(r'\\$.*[---](?![a-z])', '$', regex=True)\n",
    "box_office"
   ]
  },
  {
   "cell_type": "code",
   "execution_count": null,
   "id": "96aa2359",
   "metadata": {},
   "outputs": [],
   "source": [
    "# find the rest of the missing values\n",
    "match_3 = r'\\$\\s*\\d+\\.?\\d*\\s*[mb]illi?on'\n",
    "match_4 = r'\\$\\s*\\d{1,3}(?:[,\\.]\\d{3})+(?!\\s[mb]illion)'"
   ]
  },
  {
   "cell_type": "code",
   "execution_count": null,
   "id": "7d64efff",
   "metadata": {},
   "outputs": [],
   "source": [
    "# create a function to transform extracetd values into numeric values\n",
    "def parse_boxoffice(v):\n",
    "    # if the value is not a string then return it as NaN\n",
    "    if type(v) != str:\n",
    "        return np.nan\n",
    "    \n",
    "    # if the value is in the form of $NNN.N million, remove the '$' and ' million'\n",
    "    if re.match(r'\\$\\s*\\d+\\.?\\d*\\s*milli?on', v, flags=re.IGNORECASE):\n",
    "        v = re.sub('\\$|\\s|[a-zA-Z]','', v)\n",
    "        \n",
    "        # convert to float and multiply by 1,000,000\n",
    "        value = float(v) * 10**6\n",
    "    \n",
    "        # return the new value\n",
    "        return value\n",
    "    \n",
    "    # if the value is in the form of $NNN.N billion, remove the '$' and ' billion'\n",
    "    elif re.match(r'\\$\\s*\\d+\\.?\\d*\\s*billi?on', v, flags=re.IGNORECASE):\n",
    "        v = re.sub('\\$|\\s|[a-zA-Z]','', v)\n",
    "        \n",
    "        # convert to float and multiply by 1,000,000,000\n",
    "        value = float(v) * 10**9\n",
    "        \n",
    "        # return new value\n",
    "        return value\n",
    "        \n",
    "    # if value is in the form of $NNN,NNN,NNN\n",
    "    elif re.match(r'\\$\\s*\\d{1,3}(?:[,\\.]\\d{3})+(?!\\s[mb]illion)', v, flags=re.IGNORECASE):\n",
    "    \n",
    "        # remove '$' and commas\n",
    "        v = re.sub('\\$|,','', v)\n",
    "        \n",
    "        # convert to float\n",
    "        value = float(v)\n",
    "        \n",
    "        # return new value\n",
    "        return value\n",
    "        \n",
    "    # otherwise return NaN\n",
    "    else:\n",
    "        return np.nan"
   ]
  },
  {
   "cell_type": "code",
   "execution_count": null,
   "id": "f4376f09",
   "metadata": {},
   "outputs": [],
   "source": [
    "# Extract and convert using regex variables defined above\n",
    "wiki_movies_df[\"Box office\"] = box_office.str.extract(f'({match_3}|{match_4})', flags=re.IGNORECASE)[0].apply(parse_boxoffice)"
   ]
  },
  {
   "cell_type": "code",
   "execution_count": null,
   "id": "dc57b58c",
   "metadata": {},
   "outputs": [],
   "source": [
    "wiki_movies_df[\"Box office\"]"
   ]
  },
  {
   "cell_type": "code",
   "execution_count": null,
   "id": "c550bf4d",
   "metadata": {},
   "outputs": [],
   "source": [
    "wiki_movies_df.drop(\"Box office\", axis=1, inplace=True)"
   ]
  },
  {
   "cell_type": "code",
   "execution_count": null,
   "id": "9f2686b2",
   "metadata": {},
   "outputs": [],
   "source": [
    "wiki_movies_df.info()"
   ]
  },
  {
   "cell_type": "code",
   "execution_count": null,
   "id": "b4d83db1",
   "metadata": {},
   "outputs": [],
   "source": [
    "# Begin parsing budget data by dropping null values\n",
    "budget = wiki_movies_df[\"Budget\"].dropna()"
   ]
  },
  {
   "cell_type": "code",
   "execution_count": null,
   "id": "03c75a6a",
   "metadata": {},
   "outputs": [],
   "source": [
    "# convert lists to strings or leave as-is\n",
    "budget = budget.map(lambda x: ' '.join(x) if type(x) == list else x)"
   ]
  },
  {
   "cell_type": "code",
   "execution_count": null,
   "id": "1a4964e8",
   "metadata": {},
   "outputs": [],
   "source": [
    "# replace values between a '$' and hyphen\n",
    "budget = budget.str.replace(r'\\$.*[-—–](?![a-z])', '$', regex=True)\n",
    "budget"
   ]
  },
  {
   "cell_type": "code",
   "execution_count": null,
   "id": "8f1558c4",
   "metadata": {},
   "outputs": [],
   "source": [
    "matches1 = budget.str.contains(match_3, flags=re.IGNORECASE, na=False) # number of rows that match the form\n",
    "matches1.sum()"
   ]
  },
  {
   "cell_type": "code",
   "execution_count": null,
   "id": "ba19da86",
   "metadata": {},
   "outputs": [],
   "source": [
    "matches2 = budget.str.contains(match_4, flags=re.IGNORECASE, na=False) # number of rows that match the form\n",
    "matches2.sum()"
   ]
  },
  {
   "cell_type": "code",
   "execution_count": null,
   "id": "c7835ae1",
   "metadata": {},
   "outputs": [],
   "source": [
    "len(budget[~matches1 & ~matches2])"
   ]
  },
  {
   "cell_type": "code",
   "execution_count": null,
   "id": "57e2e392",
   "metadata": {},
   "outputs": [],
   "source": [
    "# look for values with citation number in brackets\n",
    "budget = budget.str.replace(r'\\[\\d+\\]\\s*', '', regex=True)\n",
    "budget[~matches1 & ~matches2]"
   ]
  },
  {
   "cell_type": "code",
   "execution_count": null,
   "id": "648149dc",
   "metadata": {},
   "outputs": [],
   "source": [
    "# create a function to transform extracetd values into numeric values\n",
    "def parse_budget(v):\n",
    "    # if the value is not a string then return it as NaN\n",
    "    if type(v) != str:\n",
    "        return np.nan\n",
    "    \n",
    "    # if the value is in the form of $NNN.N million, remove the '$' and ' million'\n",
    "    if re.match(r'\\$\\s*\\d+\\.?\\d*\\s*milli?on', v, flags=re.IGNORECASE):\n",
    "        v = re.sub('\\$|\\s|[a-zA-Z]','', v)\n",
    "        \n",
    "        # convert to float and multiply by 1,000,000\n",
    "        value = float(v) * 10**6\n",
    "    \n",
    "        # return the new value\n",
    "        return value\n",
    "    \n",
    "    # if the value is in the form of $NNN.N billion, remove the '$' and ' billion'\n",
    "    elif re.match(r'\\$\\s*\\d+\\.?\\d*\\s*billi?on', v, flags=re.IGNORECASE):\n",
    "        v = re.sub('\\$|\\s|[a-zA-Z]','', v)\n",
    "        \n",
    "        # convert to float and multiply by 1,000,000,000\n",
    "        value = float(v) * 10**9\n",
    "        \n",
    "        # return new value\n",
    "        return value\n",
    "        \n",
    "    # if value is in the form of $NNN,NNN,NNN\n",
    "    elif re.match(r'\\$\\s*\\d{1,3}(?:[,\\.]\\d{3})+(?!\\s[mb]illion)', v, flags=re.IGNORECASE):\n",
    "    \n",
    "        # remove '$' and commas\n",
    "        v = re.sub('\\$|,','', v)\n",
    "        \n",
    "        # convert to float\n",
    "        value = float(v)\n",
    "        \n",
    "        # return new value\n",
    "        return value\n",
    "        \n",
    "    # otherwise return NaN\n",
    "    else:\n",
    "        return np.nan"
   ]
  },
  {
   "cell_type": "code",
   "execution_count": null,
   "id": "6e396b29",
   "metadata": {},
   "outputs": [],
   "source": [
    "# find the rest of the missing values\n",
    "budget3 = r'\\$\\s*\\d+\\.?\\d*\\s*[mb]illi?on'\n",
    "budget4 = r'\\$\\s*\\d{1,3}(?:[,\\.]\\d{3})+(?!\\s[mb]illion)'"
   ]
  },
  {
   "cell_type": "code",
   "execution_count": null,
   "id": "0667cae4",
   "metadata": {},
   "outputs": [],
   "source": [
    "wiki_movies_df[\"Budget\"] = budget.str.extract(f'({budget3}|{budget4})', flags=re.IGNORECASE)[0].apply(parse_budget)"
   ]
  },
  {
   "cell_type": "code",
   "execution_count": null,
   "id": "74bd85c3",
   "metadata": {},
   "outputs": [],
   "source": [
    "wiki_movies_df[\"Budget\"]"
   ]
  },
  {
   "cell_type": "code",
   "execution_count": null,
   "id": "ab4e8836",
   "metadata": {},
   "outputs": [],
   "source": [
    "# Parse release date column\n",
    "release_date = wiki_movies_df[\"Release date\"].dropna().apply(lambda x: ' ' .join(x) if type(x) == list else x)"
   ]
  },
  {
   "cell_type": "code",
   "execution_count": null,
   "id": "920f8c84",
   "metadata": {},
   "outputs": [],
   "source": [
    "release_date.to_list()"
   ]
  },
  {
   "cell_type": "code",
   "execution_count": null,
   "id": "6b53ef14",
   "metadata": {},
   "outputs": [],
   "source": [
    "date_1 = r'(?:January|February|March|April|May|June|July|August|September|October|November|December)\\s[123]?\\d,\\s\\d{4}'\n",
    "date_2 = r'\\d{4}-[01]\\d-[0123]\\d'\n",
    "date_3 = r'(?:January|February|March|April|May|June|July|August|September|October|November|December)\\s\\d{4}'\n",
    "date_4 = r'\\d{4}'"
   ]
  },
  {
   "cell_type": "code",
   "execution_count": null,
   "id": "195fd40b",
   "metadata": {},
   "outputs": [],
   "source": [
    "release_date.str.extract(f'({date_1}|{date_2}|{date_3}|{date_4})', flags=re.IGNORECASE)"
   ]
  },
  {
   "cell_type": "code",
   "execution_count": null,
   "id": "d2ff756c",
   "metadata": {},
   "outputs": [],
   "source": [
    "wiki_movies_df['Release date'] = pd.to_datetime(release_date.str.extract(f'({date_1}|{date_2}|{date_3}|{date_4})')[0], infer_datetime_format=True)\n",
    "wiki_movies_df.head()"
   ]
  },
  {
   "cell_type": "code",
   "execution_count": null,
   "id": "78c3eef9",
   "metadata": {},
   "outputs": [],
   "source": [
    "# Parse running time\n",
    "running_time = wiki_movies_df['Running time'].dropna().apply(lambda x: ' '.join(x) if type(x) == list else x)"
   ]
  },
  {
   "cell_type": "code",
   "execution_count": null,
   "id": "9b79e5ba",
   "metadata": {},
   "outputs": [],
   "source": [
    "running_time.str.contains(r'^\\d*\\s*m', flags=re.IGNORECASE, na=False).sum()"
   ]
  },
  {
   "cell_type": "code",
   "execution_count": null,
   "id": "f28b0237",
   "metadata": {},
   "outputs": [],
   "source": [
    "running_time[running_time.str.contains(r'^\\d*\\s*m', flags=re.IGNORECASE, na=False) != True]"
   ]
  },
  {
   "cell_type": "code",
   "execution_count": null,
   "id": "dbd5e8f5",
   "metadata": {},
   "outputs": [],
   "source": [
    "# parse the remaining running time formats \n",
    "running_time_extract = running_time.str.extract(r'(\\d+)\\s*h?o?u?r?s\\s*(\\d*)|(\\d+)|\\s*m')"
   ]
  },
  {
   "cell_type": "code",
   "execution_count": null,
   "id": "3f90a998",
   "metadata": {},
   "outputs": [],
   "source": [
    "running_time_extract.info()"
   ]
  },
  {
   "cell_type": "code",
   "execution_count": null,
   "id": "37c1d5cb",
   "metadata": {},
   "outputs": [],
   "source": [
    "running_time_extract = running_time_extract.apply(lambda col: pd.to_numeric(col, errors='coerce')).fillna(0)"
   ]
  },
  {
   "cell_type": "code",
   "execution_count": null,
   "id": "026cff6b",
   "metadata": {},
   "outputs": [],
   "source": [
    "running_time_extract"
   ]
  },
  {
   "cell_type": "code",
   "execution_count": null,
   "id": "b4169818",
   "metadata": {},
   "outputs": [],
   "source": [
    "wiki_movies_df['running time'] = running_time_extract.apply(lambda row: row[0]*60 + row[1] if row[2] == 0 else row[2], axis=1)"
   ]
  },
  {
   "cell_type": "code",
   "execution_count": null,
   "id": "97370ab5",
   "metadata": {},
   "outputs": [],
   "source": [
    "wiki_movies_df.head()"
   ]
  },
  {
   "cell_type": "code",
   "execution_count": null,
   "id": "c88eac4a",
   "metadata": {},
   "outputs": [],
   "source": [
    "# drop old Running time column\n",
    "wiki_movies_df.drop(\"Running time\", axis=1, inplace=True)"
   ]
  },
  {
   "cell_type": "code",
   "execution_count": null,
   "id": "d196b3a3",
   "metadata": {},
   "outputs": [],
   "source": [
    "# Clean Kaggle Data\n",
    "kaggle_metadata.info()"
   ]
  },
  {
   "cell_type": "code",
   "execution_count": null,
   "id": "5e1f2ed4",
   "metadata": {},
   "outputs": [],
   "source": [
    "# convert data types of adult, video, release_date, budget, and id columns\n",
    "kaggle_metadata[~kaggle_metadata['adult'].isin(['True','False'])]"
   ]
  },
  {
   "cell_type": "code",
   "execution_count": null,
   "id": "1d59744f",
   "metadata": {},
   "outputs": [],
   "source": [
    "kaggle_metadata = kaggle_metadata[kaggle_metadata['adult'] == 'False'].drop('adult', axis=1)"
   ]
  },
  {
   "cell_type": "code",
   "execution_count": null,
   "id": "6d394e16",
   "metadata": {},
   "outputs": [],
   "source": [
    "kaggle_metadata.head()"
   ]
  },
  {
   "cell_type": "code",
   "execution_count": null,
   "id": "02e90c2b",
   "metadata": {},
   "outputs": [],
   "source": [
    "# clean video column\n",
    "kaggle_metadata['video'].value_counts()"
   ]
  },
  {
   "cell_type": "code",
   "execution_count": null,
   "id": "2f6c94ed",
   "metadata": {},
   "outputs": [],
   "source": [
    "# convert to boolean\n",
    "kaggle_metadata['video'] = kaggle_metadata['video'] == 'True'"
   ]
  },
  {
   "cell_type": "code",
   "execution_count": null,
   "id": "bd23dc56",
   "metadata": {},
   "outputs": [],
   "source": [
    "kaggle_metadata.info()"
   ]
  },
  {
   "cell_type": "code",
   "execution_count": null,
   "id": "b3459438",
   "metadata": {},
   "outputs": [],
   "source": [
    "# use to_numeric on other columns\n",
    "kaggle_metadata['budget'] = kaggle_metadata['budget'].astype(int)\n",
    "kaggle_metadata['id'] = pd.to_numeric(kaggle_metadata['id'], errors='raise')\n",
    "kaggle_metadata['popularity'] = pd.to_numeric(kaggle_metadata['budget'], errors='raise')"
   ]
  },
  {
   "cell_type": "code",
   "execution_count": null,
   "id": "8b9bb0ad",
   "metadata": {},
   "outputs": [],
   "source": [
    "# convert release date to datetime format\n",
    "kaggle_metadata['release_date'] = pd.to_datetime(kaggle_metadata['release_date'])"
   ]
  },
  {
   "cell_type": "code",
   "execution_count": null,
   "id": "48cbe8a7",
   "metadata": {},
   "outputs": [],
   "source": [
    "# ratings df cleaning\n",
    "ratings.info(null_counts=True)"
   ]
  },
  {
   "cell_type": "code",
   "execution_count": null,
   "id": "8914c2cf",
   "metadata": {},
   "outputs": [],
   "source": [
    "# convert timestamp to datetime (it's in Unix epoch)\n",
    "ratings['timestamp'] = pd.to_datetime(ratings['timestamp'], unit='s')"
   ]
  },
  {
   "cell_type": "code",
   "execution_count": null,
   "id": "ffab4c7a",
   "metadata": {},
   "outputs": [],
   "source": [
    "# look at a histogram to catch any obvious errors in ratings\n",
    "pd.options.display.float_format = '{:20,.2f}'.format\n",
    "ratings['rating'].plot(kind='hist')\n",
    "ratings['rating'].describe()"
   ]
  },
  {
   "cell_type": "code",
   "execution_count": null,
   "id": "45fd9acd",
   "metadata": {},
   "outputs": [],
   "source": [
    "# merge the wiki and kaggle dataframes\n",
    "final_movies_df = pd.merge(wiki_movies_df, kaggle_metadata, on='imdb_id', suffixes=['_wiki', '_kaggle'])"
   ]
  },
  {
   "cell_type": "code",
   "execution_count": null,
   "id": "3f845f2e",
   "metadata": {},
   "outputs": [],
   "source": [
    "final_movies_df.head()"
   ]
  },
  {
   "cell_type": "code",
   "execution_count": null,
   "id": "79f7c7e3",
   "metadata": {},
   "outputs": [],
   "source": [
    "# begin cleaning redundant data (7 total columns)\n",
    "final_movies_df[['title_wiki','title_kaggle']] # horse a piece"
   ]
  },
  {
   "cell_type": "code",
   "execution_count": null,
   "id": "c2cef2a9",
   "metadata": {},
   "outputs": [],
   "source": [
    "# find the rows that don't match\n",
    "final_movies_df[final_movies_df['title_wiki'] != final_movies_df['title_kaggle']][['title_wiki','title_kaggle']]\n"
   ]
  },
  {
   "cell_type": "code",
   "execution_count": null,
   "id": "44e99e62",
   "metadata": {},
   "outputs": [],
   "source": []
  }
 ],
 "metadata": {
  "kernelspec": {
   "display_name": "Python 3 (ipykernel)",
   "language": "python",
   "name": "python3"
  },
  "language_info": {
   "codemirror_mode": {
    "name": "ipython",
    "version": 3
   },
   "file_extension": ".py",
   "mimetype": "text/x-python",
   "name": "python",
   "nbconvert_exporter": "python",
   "pygments_lexer": "ipython3",
   "version": "3.9.7"
  }
 },
 "nbformat": 4,
 "nbformat_minor": 5
}
